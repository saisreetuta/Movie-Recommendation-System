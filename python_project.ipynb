{
 "cells": [
  {
   "cell_type": "code",
   "execution_count": null,
   "id": "2AcGvWg_rZQK",
   "metadata": {
    "colab": {
     "base_uri": "https://localhost:8080/"
    },
    "id": "2AcGvWg_rZQK",
    "outputId": "db5f88ed-7ce0-48b4-8abe-97be730e759e"
   },
   "outputs": [
    {
     "name": "stdout",
     "output_type": "stream",
     "text": [
      "Requirement already satisfied: numpy in c:\\users\\tutha\\anaconda3\\lib\\site-packages (1.21.5)\n"
     ]
    }
   ],
   "source": [
    "!pip install numpy\n",
    "! pip install scikit-surprise"
   ]
  },
  {
   "cell_type": "code",
   "execution_count": null,
   "id": "2dFVfj18pf-x",
   "metadata": {
    "id": "2dFVfj18pf-x"
   },
   "outputs": [],
   "source": []
  },
  {
   "cell_type": "markdown",
   "id": "-LKEtRAspght",
   "metadata": {
    "id": "-LKEtRAspght"
   },
   "source": []
  },
  {
   "cell_type": "code",
   "execution_count": null,
   "id": "vmH8u3r9pg6b",
   "metadata": {
    "id": "vmH8u3r9pg6b"
   },
   "outputs": [],
   "source": []
  },
  {
   "cell_type": "code",
   "execution_count": null,
   "id": "989185ae",
   "metadata": {
    "id": "989185ae"
   },
   "outputs": [],
   "source": [
    "import pandas as pd\n",
    "import numpy as np\n",
    "from sklearn.feature_extraction.text import TfidfVectorizer\n",
    "from sklearn.metrics.pairwise import cosine_similarity\n",
    "from surprise import Reader, Dataset, SVD, KNNBaseline\n",
    "from surprise.model_selection import cross_validate, train_test_split\n",
    "from surprise import KNNWithMeans\n",
    "from surprise import Dataset\n",
    "from surprise import Reader\n"
   ]
  },
  {
   "cell_type": "markdown",
   "id": "WMlb7jJyra2y",
   "metadata": {
    "id": "WMlb7jJyra2y"
   },
   "source": []
  },
  {
   "cell_type": "code",
   "execution_count": null,
   "id": "fce33383",
   "metadata": {
    "colab": {
     "base_uri": "https://localhost:8080/",
     "height": 423
    },
    "id": "fce33383",
    "outputId": "8cade68a-feff-443d-f0de-2d887bcad9a6"
   },
   "outputs": [],
   "source": [
    "# Load the MovieLens dataset\n",
    "movies_raw='https://raw.githubusercontent.com/Sumanth-Guduru/movie_recomendation_system/main/movies.csv'\n",
    "ratings_raw='https://raw.githubusercontent.com/Sumanth-Guduru/movie_recomendation_system/main/ratings.csv'\n",
    "ratings = pd.read_csv(ratings_raw,encoding='unicode_escape')\n",
    "movies = pd.read_csv(movies_raw,encoding='unicode_escape')\n",
    "movies"
   ]
  },
  {
   "cell_type": "code",
   "execution_count": null,
   "id": "8a16274f",
   "metadata": {
    "id": "8a16274f"
   },
   "outputs": [],
   "source": [
    "# Preprocess the movie data for content-based filtering\n",
    "tfidf = TfidfVectorizer(stop_words='english')\n",
    "movies['genres'] = movies['genres'].fillna('')\n",
    "tfidf_matrix = tfidf.fit_transform(movies['genres'])\n",
    "cosine_sim = cosine_similarity(tfidf_matrix, tfidf_matrix)"
   ]
  },
  {
   "cell_type": "code",
   "execution_count": null,
   "id": "4ba4e1b3",
   "metadata": {
    "id": "4ba4e1b3"
   },
   "outputs": [],
   "source": [
    "# Create a Surprise Reader object\n",
    "reader = Reader(rating_scale=(0.5, 5))"
   ]
  },
  {
   "cell_type": "code",
   "execution_count": null,
   "id": "22b34638",
   "metadata": {
    "id": "22b34638"
   },
   "outputs": [],
   "source": [
    "# Load the data into a Surprise Dataset object\n",
    "data = Dataset.load_from_df(ratings[['userId', 'movieId', 'rating']], reader)"
   ]
  },
  {
   "cell_type": "code",
   "execution_count": null,
   "id": "a717df05",
   "metadata": {
    "id": "a717df05"
   },
   "outputs": [],
   "source": [
    "# Create a train/test split\n",
    "trainset, testset = train_test_split(data, test_size=0.2)"
   ]
  },
  {
   "cell_type": "code",
   "execution_count": null,
   "id": "174bd2d6",
   "metadata": {
    "id": "174bd2d6"
   },
   "outputs": [],
   "source": [
    "# Create a collaborative filtering algorithm object\n",
    "sim_options = {'name': 'pearson_baseline', 'user_based': True}\n",
    "cf_algo = KNNBaseline(sim_options=sim_options)"
   ]
  },
  {
   "cell_type": "code",
   "execution_count": null,
   "id": "11735255",
   "metadata": {
    "colab": {
     "base_uri": "https://localhost:8080/"
    },
    "id": "11735255",
    "outputId": "3f468eba-a56c-4ee1-b827-cb8abcfde36d"
   },
   "outputs": [
    {
     "name": "stdout",
     "output_type": "stream",
     "text": [
      "Estimating biases using als...\n",
      "Computing the pearson_baseline similarity matrix...\n",
      "Done computing similarity matrix.\n"
     ]
    },
    {
     "data": {
      "text/plain": [
       "<surprise.prediction_algorithms.knns.KNNBaseline at 0x7de1d816d600>"
      ]
     },
     "execution_count": 9,
     "metadata": {},
     "output_type": "execute_result"
    }
   ],
   "source": [
    "# Train the collaborative filtering algorithm on the training set\n",
    "trainset = data.build_full_trainset()\n",
    "cf_algo.fit(trainset)\n"
   ]
  },
  {
   "cell_type": "code",
   "execution_count": null,
   "id": "3ceb8b74",
   "metadata": {
    "id": "3ceb8b74"
   },
   "outputs": [],
   "source": [
    "# Create a content-based filtering function\n",
    "def content_based_recommendations(title):\n",
    "    try:\n",
    "        idx = movies[movies['title'] == title].index[0]\n",
    "    except IndexError:\n",
    "        return \"Movie not found\"\n",
    "    sim_scores = list(enumerate(cosine_sim[idx]))\n",
    "    sim_scores = sorted(sim_scores, key=lambda x: x[1], reverse=True)\n",
    "    sim_scores = sim_scores[1:11]\n",
    "    movie_indices = [i[0] for i in sim_scores]\n",
    "    return movies.iloc[movie_indices]['title']\n"
   ]
  },
  {
   "cell_type": "code",
   "execution_count": null,
   "id": "bf5b5c9e",
   "metadata": {
    "id": "bf5b5c9e"
   },
   "outputs": [],
   "source": [
    "def collaborative_filtering_recommendations(user_id):\n",
    "    # Load the dataset\n",
    "    data = Dataset.load_builtin('ml-100k')\n",
    "\n",
    "    # Build and fit the algorithm using the entire dataset as the trainset\n",
    "    sim_options = {'name': 'pearson_baseline', 'user_based': True}\n",
    "    trainset = data.build_full_trainset()\n",
    "    cf_algo = KNNWithMeans(sim_options=sim_options, trainset=trainset)\n",
    "\n",
    "    cf_algo.fit(trainset)\n",
    "\n",
    "    # Get the unrated movies of the user\n",
    "    user_unseen_movies = []\n",
    "    for movie_id in trainset.all_items():\n",
    "        if not trainset.ur[user_id] or movie_id not in set([rating[0] for rating in trainset.ur[user_id]]):\n",
    "            user_unseen_movies.append((trainset.to_raw_uid(user_id), trainset.to_raw_iid(movie_id), 3.0))\n",
    "\n",
    "    # Use the trainset attribute of the trainset object\n",
    "    user_recommendations = cf_algo.test(user_unseen_movies)\n",
    "\n",
    "    user_recommendations = [(int(r.iid), r.est) for r in user_recommendations]\n",
    "    user_recommendations.sort(key=lambda x: x[1], reverse=True)\n",
    "\n",
    "    return user_recommendations\n"
   ]
  },
  {
   "cell_type": "code",
   "execution_count": null,
   "id": "La_8ySZ0Jxg7",
   "metadata": {
    "colab": {
     "base_uri": "https://localhost:8080/"
    },
    "id": "La_8ySZ0Jxg7",
    "outputId": "f4320a1d-626f-4812-e55d-62c7534a5a38"
   },
   "outputs": [
    {
     "name": "stdout",
     "output_type": "stream",
     "text": [
      "Estimating biases using als...\n",
      "Computing the pearson_baseline similarity matrix...\n",
      "Done computing similarity matrix.\n",
      "Estimating biases using als...\n",
      "Computing the pearson_baseline similarity matrix...\n",
      "Done computing similarity matrix.\n",
      "Estimating biases using als...\n",
      "Computing the pearson_baseline similarity matrix...\n",
      "Done computing similarity matrix.\n",
      "Estimating biases using als...\n",
      "Computing the pearson_baseline similarity matrix...\n",
      "Done computing similarity matrix.\n",
      "Estimating biases using als...\n",
      "Computing the pearson_baseline similarity matrix...\n",
      "Done computing similarity matrix.\n",
      "Evaluating RMSE, MAE of algorithm KNNWithMeans on 5 split(s).\n",
      "\n",
      "                  Fold 1  Fold 2  Fold 3  Fold 4  Fold 5  Mean    Std     \n",
      "RMSE (testset)    0.8924  0.9032  0.8938  0.9013  0.8915  0.8964  0.0049  \n",
      "MAE (testset)     0.6785  0.6846  0.6783  0.6834  0.6759  0.6802  0.0033  \n",
      "Fit time          0.61    0.89    0.76    0.32    0.28    0.57    0.24    \n",
      "Test time         2.75    4.76    2.31    1.00    0.98    2.36    1.39    \n",
      "Average RMSE: 0.89643919407973\n",
      "Average MAE: 0.6801674401015905\n"
     ]
    }
   ],
   "source": [
    "# Create a Surprise Reader object\n",
    "reader = Reader(rating_scale=(0.5, 5))\n",
    "\n",
    "# Load the data into a Surprise Dataset object\n",
    "data = Dataset.load_from_df(ratings[['userId', 'movieId', 'rating']], reader)\n",
    "\n",
    "# Define the algorithm\n",
    "sim_options = {'name': 'pearson_baseline', 'user_based': True}\n",
    "cf_algo = KNNWithMeans(sim_options=sim_options)\n",
    "\n",
    "# Compute cross-validation scores\n",
    "cv_results = cross_validate(cf_algo, data, measures=['RMSE', 'MAE'], cv=5, verbose=True)\n",
    "\n",
    "# Print the average RMSE and MAE scores\n",
    "print(\"Average RMSE:\", np.mean(cv_results['test_rmse']))\n",
    "print(\"Average MAE:\", np.mean(cv_results['test_mae']))\n"
   ]
  },
  {
   "cell_type": "code",
   "execution_count": null,
   "id": "83743d12",
   "metadata": {
    "id": "83743d12"
   },
   "outputs": [],
   "source": [
    "# Create a hybrid filtering function\n",
    "def hybrid_recommendations(title, user_id):\n",
    "    content_based_movies = content_based_recommendations(title)\n",
    "    collaborative_filtering_movies =collaborative_filtering_recommendations(user_id)\n",
    "    recommended_movies = []\n",
    "    for movie in content_based_movies:\n",
    "        if movie in collaborative_filtering_movies:\n",
    "            recommended_movies.append(movie)\n",
    "    for movie in content_based_movies:\n",
    "        if movie not in recommended_movies:\n",
    "            recommended_movies.append(movie)\n",
    "        if len(recommended_movies) == 5:\n",
    "            break\n",
    "    return recommended_movies"
   ]
  },
  {
   "cell_type": "code",
   "execution_count": null,
   "id": "e011f525",
   "metadata": {
    "colab": {
     "base_uri": "https://localhost:8080/"
    },
    "id": "e011f525",
    "outputId": "3e54ba2d-7d61-449d-ad0d-8aca501c1c8e"
   },
   "outputs": [
    {
     "name": "stdout",
     "output_type": "stream",
     "text": [
      "Dataset ml-100k could not be found. Do you want to download it? [Y/n] y\n",
      "Trying to download dataset from https://files.grouplens.org/datasets/movielens/ml-100k.zip...\n",
      "Done! Dataset ml-100k has been saved to /root/.surprise_data/ml-100k\n",
      "Estimating biases using als...\n",
      "Computing the pearson_baseline similarity matrix...\n",
      "Done computing similarity matrix.\n"
     ]
    }
   ],
   "source": [
    "# Get hybrid recommendations for a user\n",
    "user_id = 42\n",
    "movie_title = \"Jumanji (1995)\"\n",
    "recommended_movies = hybrid_recommendations(movie_title, user_id)"
   ]
  },
  {
   "cell_type": "code",
   "execution_count": null,
   "id": "c654dae4",
   "metadata": {
    "colab": {
     "base_uri": "https://localhost:8080/"
    },
    "id": "c654dae4",
    "outputId": "3d5ed614-ff4c-462c-b828-b44ac00d248f"
   },
   "outputs": [
    {
     "name": "stdout",
     "output_type": "stream",
     "text": [
      "Recommended movies for user 42\n",
      "['Indian in the Cupboard, The (1995)', 'NeverEnding Story III, The (1994)', 'Escape to Witch Mountain (1975)', \"Darby O'Gill and the Little People (1959)\", 'Return to Oz (1985)']\n"
     ]
    }
   ],
   "source": [
    "# Print the recommended movies\n",
    "print(\"Recommended movies for user\", user_id)\n",
    "print(recommended_movies)"
   ]
  },
  {
   "cell_type": "code",
   "execution_count": null,
   "id": "7a76ce3d",
   "metadata": {
    "id": "7a76ce3d"
   },
   "outputs": [],
   "source": []
  },
  {
   "cell_type": "code",
   "execution_count": null,
   "id": "c3YX-O4EU6Mh",
   "metadata": {
    "id": "c3YX-O4EU6Mh"
   },
   "outputs": [],
   "source": []
  },
  {
   "cell_type": "code",
   "execution_count": null,
   "id": "HoF6u3eJU7KD",
   "metadata": {
    "id": "HoF6u3eJU7KD"
   },
   "outputs": [],
   "source": []
  }
 ],
 "metadata": {
  "accelerator": "GPU",
  "colab": {
   "provenance": []
  },
  "gpuClass": "standard",
  "kernelspec": {
   "display_name": "Python 3 (ipykernel)",
   "language": "python",
   "name": "python3"
  },
  "language_info": {
   "codemirror_mode": {
    "name": "ipython",
    "version": 3
   },
   "file_extension": ".py",
   "mimetype": "text/x-python",
   "name": "python",
   "nbconvert_exporter": "python",
   "pygments_lexer": "ipython3",
   "version": "3.9.13"
  }
 },
 "nbformat": 4,
 "nbformat_minor": 5
}
